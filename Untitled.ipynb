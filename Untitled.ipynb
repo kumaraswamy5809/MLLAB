{
  "nbformat": 4,
  "nbformat_minor": 0,
  "metadata": {
    "colab": {
      "name": "Untitled",
      "provenance": [],
      "authorship_tag": "ABX9TyOfILd+UsUaCzf6KlHXRXP/",
      "include_colab_link": true
    },
    "kernelspec": {
      "name": "python3",
      "display_name": "Python 3"
    }
  },
  "cells": [
    {
      "cell_type": "markdown",
      "metadata": {
        "id": "view-in-github",
        "colab_type": "text"
      },
      "source": [
        "<a href=\"https://colab.research.google.com/github/kumaraswamy5809/MLLAB/blob/master/Untitled.ipynb\" target=\"_parent\"><img src=\"https://colab.research.google.com/assets/colab-badge.svg\" alt=\"Open In Colab\"/></a>"
      ]
    },
    {
      "cell_type": "code",
      "metadata": {
        "id": "PcgCsmlLzwg6",
        "colab_type": "code",
        "outputId": "a4dfd5cc-7057-4cc3-87a4-d1a0fc218e47",
        "colab": {
          "base_uri": "https://localhost:8080/",
          "height": 34
        }
      },
      "source": [
        "print(\"hello world\")\n",
        "\n"
      ],
      "execution_count": 0,
      "outputs": [
        {
          "output_type": "stream",
          "text": [
            "hello world\n"
          ],
          "name": "stdout"
        }
      ]
    },
    {
      "cell_type": "code",
      "metadata": {
        "id": "aKR9c_oVCfnG",
        "colab_type": "code",
        "outputId": "a6f8a027-2343-4e81-a807-d3a5f9ee134c",
        "colab": {
          "base_uri": "https://localhost:8080/",
          "height": 158
        }
      },
      "source": [
        "n1=int(input(\"enter n1 value:\"))\n",
        "n2=int(input(\"enter n2 vlaue:\"))\n",
        "sum=n1+n2\n",
        "mul=n1*n2\n",
        "div=n1/n2\n",
        "sub=n1-n2\n",
        "modulo=n1%n2\n",
        "print(\"the sum of two numbers is:\",sum)\n",
        "print(\"the mulitplication of two numbers is:\",mul)\n",
        "print(\"the division of two numbers is:\",div)\n",
        "print(\"the subtraction of two numbers is:\",sub)\n",
        "print(\"the modulodivision of two numbers is:\",modulo)\n"
      ],
      "execution_count": 0,
      "outputs": [
        {
          "output_type": "stream",
          "text": [
            "enter n1 value:25\n",
            "enter n2 vlaue:26\n",
            "the sum of two numbers is: 51\n",
            "the mulitplication of two numbers is: 650\n",
            "the division of two numbers is: 0.9615384615384616\n",
            "the subtraction of two numbers is: -1\n",
            "the modulodivision of two numbers is: 25\n"
          ],
          "name": "stdout"
        }
      ]
    },
    {
      "cell_type": "code",
      "metadata": {
        "id": "vqbt-DihC6IC",
        "colab_type": "code",
        "outputId": "7397a309-36c8-4f69-9706-e0d0f4a882a2",
        "colab": {
          "base_uri": "https://localhost:8080/",
          "height": 190
        }
      },
      "source": [
        "Kumarswamy=[10,20,30,50,60]\n",
        "for x in Kumarswamy:\n",
        "  print(\"The value of x=\",x)\n",
        "  y=x+30\n",
        "  print(\"The value of y=\",y)"
      ],
      "execution_count": 0,
      "outputs": [
        {
          "output_type": "stream",
          "text": [
            "The value of x= 10\n",
            "The value of y= 40\n",
            "The value of x= 20\n",
            "The value of y= 50\n",
            "The value of x= 30\n",
            "The value of y= 60\n",
            "The value of x= 50\n",
            "The value of y= 80\n",
            "The value of x= 60\n",
            "The value of y= 90\n"
          ],
          "name": "stdout"
        }
      ]
    },
    {
      "cell_type": "code",
      "metadata": {
        "id": "xYYTfnKqEBkw",
        "colab_type": "code",
        "outputId": "696ff08e-386d-4da0-9229-6be0a6ef04b7",
        "colab": {
          "base_uri": "https://localhost:8080/",
          "height": 363
        }
      },
      "source": [
        "for i in range(20):\n",
        "  print(i)"
      ],
      "execution_count": 0,
      "outputs": [
        {
          "output_type": "stream",
          "text": [
            "0\n",
            "1\n",
            "2\n",
            "3\n",
            "4\n",
            "5\n",
            "6\n",
            "7\n",
            "8\n",
            "9\n",
            "10\n",
            "11\n",
            "12\n",
            "13\n",
            "14\n",
            "15\n",
            "16\n",
            "17\n",
            "18\n",
            "19\n"
          ],
          "name": "stdout"
        }
      ]
    },
    {
      "cell_type": "code",
      "metadata": {
        "id": "Qyb0gJWoEQJJ",
        "colab_type": "code",
        "outputId": "3e1b5f84-958f-46c5-e5fa-47b3e125eea9",
        "colab": {
          "base_uri": "https://localhost:8080/",
          "height": 138
        }
      },
      "source": [
        "x=int(input(\"enter a number\"))\n",
        "while x<=15:\n",
        "  print(x)\n",
        "  x=x+1"
      ],
      "execution_count": 0,
      "outputs": [
        {
          "output_type": "stream",
          "text": [
            "enter a number10\n",
            "10\n",
            "11\n",
            "12\n",
            "13\n",
            "14\n",
            "15\n"
          ],
          "name": "stdout"
        }
      ]
    },
    {
      "cell_type": "code",
      "metadata": {
        "id": "540ajbHEFUU6",
        "colab_type": "code",
        "outputId": "84151008-78c9-4d8a-9ab5-329e8cda42e3",
        "colab": {
          "base_uri": "https://localhost:8080/",
          "height": 121
        }
      },
      "source": [
        "Kumarswamy=[\"aditya\",'srikatnh','chinabau','Hemanth','Satya','RajaNaidu']\n",
        "for x in Kumarswamy:\n",
        "  print(x)"
      ],
      "execution_count": 0,
      "outputs": [
        {
          "output_type": "stream",
          "text": [
            "aditya\n",
            "srikatnh\n",
            "chinabau\n",
            "Hemanth\n",
            "Satya\n",
            "RajaNaidu\n"
          ],
          "name": "stdout"
        }
      ]
    },
    {
      "cell_type": "code",
      "metadata": {
        "id": "ORCq3xjPFlez",
        "colab_type": "code",
        "outputId": "a31aecb0-d53e-41e4-a2cb-c370e076818f",
        "colab": {
          "base_uri": "https://localhost:8080/",
          "height": 71
        }
      },
      "source": [
        "pi=3.14\n",
        "r=int(input(\"enter the radius of the circle:\"))\n",
        "area=pi*r*r\n",
        "area=print(\"area of the circle is:\",area)"
      ],
      "execution_count": 0,
      "outputs": [
        {
          "output_type": "stream",
          "text": [
            "enter the radius of the circle:3\n",
            "area of the circle is: 28.259999999999998\n"
          ],
          "name": "stdout"
        }
      ]
    },
    {
      "cell_type": "code",
      "metadata": {
        "id": "hlhuKHVfF0Xs",
        "colab_type": "code",
        "outputId": "adb555d1-d632-4071-dd3b-93143a4717b4",
        "colab": {
          "base_uri": "https://localhost:8080/",
          "height": 89
        }
      },
      "source": [
        "n1=int(input(\"enter n1 vlaue\"))\n",
        "n2=int(input(\"enter n2 vlaue\"))\n",
        "n3=n1**n2\n",
        "print(\"the power of value \",n3)"
      ],
      "execution_count": 0,
      "outputs": [
        {
          "output_type": "stream",
          "text": [
            "enter n1 vlaue10\n",
            "enter n2 vlaue20\n",
            "the power of value  100000000000000000000\n"
          ],
          "name": "stdout"
        }
      ]
    }
  ]
}